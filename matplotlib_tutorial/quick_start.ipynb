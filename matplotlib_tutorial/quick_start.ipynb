{
 "cells": [
  {
   "cell_type": "markdown",
   "id": "1d74205d-98ca-4b48-8f21-578f0a0d6d53",
   "metadata": {},
   "source": [
    "## This tutorial covers some basic usage patterns and best practices to help you get started with Matplotlib."
   ]
  },
  {
   "cell_type": "code",
   "execution_count": 4,
   "id": "83d17102-856f-4c45-8eb4-24e0ea4ee420",
   "metadata": {},
   "outputs": [],
   "source": [
    "import matplotlib as mpl\n",
    "import matplotlib.pyplot as plt\n",
    "import numpy as np\n",
    "import pandas as pd"
   ]
  },
  {
   "cell_type": "code",
   "execution_count": 5,
   "id": "ebc0ae5e-a65c-4c8c-987d-4dbc72b0447e",
   "metadata": {},
   "outputs": [],
   "source": [
    "df = pd.read_csv('https://raw.githubusercontent.com/rahulg-infiswift/AnalyticsCourse/main/datasets/Advertising.csv')"
   ]
  },
  {
   "cell_type": "code",
   "execution_count": null,
   "id": "69ed76d9-13cb-44cc-842a-760c6386fe81",
   "metadata": {},
   "outputs": [],
   "source": []
  }
 ],
 "metadata": {
  "kernelspec": {
   "display_name": "Python 3 (ipykernel)",
   "language": "python",
   "name": "python3"
  },
  "language_info": {
   "codemirror_mode": {
    "name": "ipython",
    "version": 3
   },
   "file_extension": ".py",
   "mimetype": "text/x-python",
   "name": "python",
   "nbconvert_exporter": "python",
   "pygments_lexer": "ipython3",
   "version": "3.10.4"
  }
 },
 "nbformat": 4,
 "nbformat_minor": 5
}
