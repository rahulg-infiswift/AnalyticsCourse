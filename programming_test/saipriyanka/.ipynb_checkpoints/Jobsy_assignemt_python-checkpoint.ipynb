{
 "cells": [
  {
   "cell_type": "code",
   "execution_count": 3,
   "metadata": {},
   "outputs": [
    {
     "name": "stdout",
     "output_type": "stream",
     "text": [
      "6\n"
     ]
    }
   ],
   "source": [
    "# maximum of 2 numbers\n",
    "a=6\n",
    "b=5\n",
    "print(max(a,b))"
   ]
  },
  {
   "cell_type": "code",
   "execution_count": 37,
   "metadata": {},
   "outputs": [
    {
     "name": "stdout",
     "output_type": "stream",
     "text": [
      "Enter the number 40\n",
      "Buzz\n"
     ]
    }
   ],
   "source": [
    "#Write a function called fizz_buzz that takes a number.\n",
    "#If the number is divisible by 3, it should return “Fizz”.\n",
    "#If it is divisible by 5, it should return “Buzz”.\n",
    "#If it is divisible by both 3 and 5, it should return “FizzBuzz”.\n",
    "#Otherwise, it should return the same number.\n",
    "x = int(input(\"Enter the number \"))\n",
    "if x%3==0 and x%5==0:\n",
    "    print(\"FizzBuzz\")\n",
    "elif x%5==0:\n",
    "    print(\"Buzz\")\n",
    "elif x%3==0:\n",
    "    print(\"fizz\")\n",
    "else:\n",
    "    print(\"fizz_buzz\")\n"
   ]
  },
  {
   "cell_type": "code",
   "execution_count": null,
   "metadata": {},
   "outputs": [],
   "source": [
    "#Write a function for checking the speed of drivers. This function should have one parameter: speed.\n",
    "#If speed is less than 70, it should print “Ok”.\n",
    "#Otherwise, for every 5km above the speed limit (70), it should give the driver one demerit point and print the total number of demerit points. For example, if the speed is 80, it should print: “Points: 2”.\n",
    "#If the driver gets more than 12 points, the function should print: “License suspended”\n",
    "speed = int(input(\"Enter the speed  \"))\n",
    "y = speed/5- 14\n",
    "if speed>70 and y>12:\n",
    "    print(\"license suspended\")\n",
    "elif speed>70 :\n",
    "    print(\"demeritpoints:\",y)    \n",
    "else:\n",
    "    print(\"ok\")"
   ]
  },
  {
   "cell_type": "code",
   "execution_count": 83,
   "metadata": {},
   "outputs": [
    {
     "name": "stdout",
     "output_type": "stream",
     "text": [
      "Enter lower range limit:0\n",
      "Enter upper range limit:20\n",
      "0 even\n",
      "1 odd\n",
      "2 even\n",
      "3 odd\n",
      "4 even\n",
      "5 odd\n",
      "6 even\n",
      "7 odd\n",
      "8 even\n",
      "9 odd\n",
      "10 even\n",
      "11 odd\n",
      "12 even\n",
      "13 odd\n",
      "14 even\n",
      "15 odd\n",
      "16 even\n",
      "17 odd\n",
      "18 even\n",
      "19 odd\n",
      "20 even\n"
     ]
    }
   ],
   "source": [
    "#Write a function called showNumbers that takes a parameter called limit. It should print all the numbers between 0 and limit with a label to identify the even and odd numbers. For example, if the limit is 3, it should print:\n",
    "#0 EVEN\n",
    "#1 ODD\n",
    "#2 EVEN\n",
    "#3 ODD\n",
    "lower = int(input(\"Enter lower range limit:\"))\n",
    "limit = int(input(\"Enter upper range limit:\"))\n",
    "for i in range(0, limit+1):\n",
    "   if (i%2==1) :\n",
    "      print(i,\"odd\")\n",
    "   elif (i%2==0):\n",
    "      print(i,'even')"
   ]
  },
  {
   "cell_type": "code",
   "execution_count": 86,
   "metadata": {},
   "outputs": [
    {
     "name": "stdout",
     "output_type": "stream",
     "text": [
      "Enter lower range limit:1\n",
      "Enter upper range limit:20\n",
      "3\n",
      "5\n",
      "6\n",
      "9\n",
      "10\n",
      "12\n",
      "15\n",
      "18\n",
      "20\n"
     ]
    }
   ],
   "source": [
    "#Write a function that returns the sum of multiples of 3 and 5 between 0 and limit (parameter). For example, if the limit is 20, it should return the sum of 3, 5, 6, 9, 10, 12, 15, 18, 20.\n",
    "lower = int(input(\"Enter lower range limit:\"))\n",
    "limit = int(input(\"Enter upper range limit:\"))\n",
    "for i in range(lower, limit+1):\n",
    "   if (i%3==0) :\n",
    "      print(i)\n",
    "   elif (i%5==0):\n",
    "      print(i)"
   ]
  },
  {
   "cell_type": "code",
   "execution_count": 88,
   "metadata": {},
   "outputs": [
    {
     "name": "stdout",
     "output_type": "stream",
     "text": [
      "Enter the number of rows5\n",
      "* \n",
      "* * \n",
      "* * * \n",
      "* * * * \n",
      "* * * * * \n"
     ]
    }
   ],
   "source": [
    "#Write a function called show_stars(rows). If rows is 5, it should print the following:\n",
    "#*\n",
    "#**\n",
    "#***\n",
    "#****\n",
    "#*****\n",
    "\n",
    "show_stars = int(input(\"Enter the number of rows\")) \n",
    "for i in range(0, show_stars):  \n",
    "        for j in range(0, i + 1):   \n",
    "            print(\"* \", end=\"\")       \n",
    "        print()  "
   ]
  },
  {
   "cell_type": "code",
   "execution_count": 96,
   "metadata": {},
   "outputs": [
    {
     "name": "stdout",
     "output_type": "stream",
     "text": [
      "enter number for limit 20\n",
      "2\n",
      "3\n",
      "5\n",
      "7\n",
      "11\n",
      "13\n",
      "17\n",
      "19\n"
     ]
    }
   ],
   "source": [
    "#Write a function that prints all the prime numbers between 0 and limit where limit is a parameter.\n",
    "limit = int(input('enter number for limit '))\n",
    "for x in range(1, limit + 1):\n",
    "   if x > 1:\n",
    "       for i in range(2, x):\n",
    "           if (x % i) == 0:\n",
    "               break\n",
    "       else:\n",
    "           print(x)    "
   ]
  },
  {
   "cell_type": "code",
   "execution_count": null,
   "metadata": {},
   "outputs": [],
   "source": []
  }
 ],
 "metadata": {
  "kernelspec": {
   "display_name": "Python 3",
   "language": "python",
   "name": "python3"
  },
  "language_info": {
   "codemirror_mode": {
    "name": "ipython",
    "version": 3
   },
   "file_extension": ".py",
   "mimetype": "text/x-python",
   "name": "python",
   "nbconvert_exporter": "python",
   "pygments_lexer": "ipython3",
   "version": "3.8.5"
  }
 },
 "nbformat": 4,
 "nbformat_minor": 4
}
