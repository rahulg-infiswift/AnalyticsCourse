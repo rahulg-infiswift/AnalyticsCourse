{
  "nbformat": 4,
  "nbformat_minor": 0,
  "metadata": {
    "colab": {
      "name": "Untitled34.ipynb",
      "provenance": [],
      "collapsed_sections": []
    },
    "kernelspec": {
      "name": "python3",
      "display_name": "Python 3"
    },
    "language_info": {
      "name": "python"
    }
  },
  "cells": [
    {
      "cell_type": "markdown",
      "metadata": {
        "id": "SkeO8eg60CrC"
      },
      "source": [
        "1.Write a function that returns the maximum of two numbers?\n",
        "\n"
      ]
    },
    {
      "cell_type": "code",
      "metadata": {
        "id": "7mXfebGK0HTd"
      },
      "source": [
        "def maximum(a,b):\n",
        "  if a >=b:\n",
        "    return a\n",
        "  else:\n",
        "    return b"
      ],
      "execution_count": null,
      "outputs": []
    },
    {
      "cell_type": "code",
      "metadata": {
        "id": "WM87FcIenubf",
        "colab": {
          "base_uri": "https://localhost:8080/"
        },
        "outputId": "08189ccb-ceec-4aab-b1ec-e41ddb73cbaa"
      },
      "source": [
        "maximum(6,7)"
      ],
      "execution_count": 27,
      "outputs": [
        {
          "output_type": "execute_result",
          "data": {
            "text/plain": [
              "7"
            ]
          },
          "metadata": {
            "tags": []
          },
          "execution_count": 27
        }
      ]
    },
    {
      "cell_type": "markdown",
      "metadata": {
        "id": "N16_-2j-b77D"
      },
      "source": [
        "2.Write a function called fizz_buzz that takes a number.\n",
        "If the number is divisible by 3, it should return “Fizz”.\n",
        "If it is divisible by 5, it should return “Buzz”.\n",
        "If it is divisible by both 3 and 5, it should return “FizzBuzz”.\n",
        "Otherwise, it should return the same number.\n"
      ]
    },
    {
      "cell_type": "code",
      "metadata": {
        "id": "akSA-8w1b-vN"
      },
      "source": [
        "def fizz_buzz(number):\n",
        "  if number%3==0 and number%5==0:\n",
        "    return print(\"FizzBuzz\")\n",
        "  elif number%3==0:\n",
        "    return print(\"Fizz\")\n",
        "  elif number%5==0:\n",
        "    return print(\"Buzz\")\n",
        "  else:\n",
        "    return number\n",
        "\n",
        "  "
      ],
      "execution_count": null,
      "outputs": []
    },
    {
      "cell_type": "code",
      "metadata": {
        "colab": {
          "base_uri": "https://localhost:8080/"
        },
        "id": "qd7NLT_RfKtU",
        "outputId": "22a3a1c1-afcf-4876-d7a9-5f0d6b0ee309"
      },
      "source": [
        "fizz_buzz(15)"
      ],
      "execution_count": null,
      "outputs": [
        {
          "output_type": "stream",
          "text": [
            "FizzBuzz\n"
          ],
          "name": "stdout"
        }
      ]
    },
    {
      "cell_type": "code",
      "metadata": {
        "colab": {
          "base_uri": "https://localhost:8080/"
        },
        "id": "QI2StKzufTcd",
        "outputId": "cb890856-167e-4b8d-fb2e-5551c322ba85"
      },
      "source": [
        "fizz_buzz(9)"
      ],
      "execution_count": null,
      "outputs": [
        {
          "output_type": "stream",
          "text": [
            "Fizz\n"
          ],
          "name": "stdout"
        }
      ]
    },
    {
      "cell_type": "code",
      "metadata": {
        "colab": {
          "base_uri": "https://localhost:8080/"
        },
        "id": "FXAAQ7y5hDJ4",
        "outputId": "e2d9b0a4-95e2-4592-bbd5-1df9767062de"
      },
      "source": [
        "fizz_buzz(10)"
      ],
      "execution_count": null,
      "outputs": [
        {
          "output_type": "stream",
          "text": [
            "Buzz\n"
          ],
          "name": "stdout"
        }
      ]
    },
    {
      "cell_type": "markdown",
      "metadata": {
        "id": "MyKuhdkPhMoE"
      },
      "source": [
        "3.Write a function for checking the speed of drivers. This function should have one parameter: speed.\n",
        "If speed is less than 70, it should print “Ok”.\n",
        "Otherwise, for every 5km above the speed limit (70), it should give the driver one demerit point and print the total number of demerit points. For example, if the speed is 80, it should print: “Points: 2”.\n",
        "If the driver gets more than 12 points, the function should print: “License suspended”\n"
      ]
    },
    {
      "cell_type": "code",
      "metadata": {
        "id": "okt5UKBrhGhA"
      },
      "source": [
        "def speed_check(speed):\n",
        "  if speed<=70:\n",
        "    return \"OK\"\n",
        "  else:\n",
        "    demerit_points=(speed-70)/5\n",
        "    if demerit_points<12:\n",
        "      return print(\"Points:\",demerit_points)\n",
        "    else:\n",
        "      return print(\"License suspended\")\n"
      ],
      "execution_count": null,
      "outputs": []
    },
    {
      "cell_type": "code",
      "metadata": {
        "colab": {
          "base_uri": "https://localhost:8080/",
          "height": 35
        },
        "id": "A7PsIPleice4",
        "outputId": "f2971620-dcb5-49ab-8e5a-7b5cc4031e23"
      },
      "source": [
        "speed_check(65)"
      ],
      "execution_count": null,
      "outputs": [
        {
          "output_type": "execute_result",
          "data": {
            "application/vnd.google.colaboratory.intrinsic+json": {
              "type": "string"
            },
            "text/plain": [
              "'OK'"
            ]
          },
          "metadata": {
            "tags": []
          },
          "execution_count": 22
        }
      ]
    },
    {
      "cell_type": "code",
      "metadata": {
        "colab": {
          "base_uri": "https://localhost:8080/"
        },
        "id": "i9OAi7hkiqg3",
        "outputId": "fd6702f7-a639-426f-91a3-c9f78d36b399"
      },
      "source": [
        "speed_check(90)"
      ],
      "execution_count": null,
      "outputs": [
        {
          "output_type": "stream",
          "text": [
            "Points: 4.0\n"
          ],
          "name": "stdout"
        }
      ]
    },
    {
      "cell_type": "code",
      "metadata": {
        "colab": {
          "base_uri": "https://localhost:8080/"
        },
        "id": "o_A4lCqviur0",
        "outputId": "8e8fdaa0-7ac9-4b4b-cf36-09d6fabcf761"
      },
      "source": [
        "speed_check(300)"
      ],
      "execution_count": null,
      "outputs": [
        {
          "output_type": "stream",
          "text": [
            "License suspended\n"
          ],
          "name": "stdout"
        }
      ]
    },
    {
      "cell_type": "markdown",
      "metadata": {
        "id": "bW64CpWkjHog"
      },
      "source": [
        "4.Write a function called showNumbers that takes a parameter called limit. It should print all the numbers between 0 and limit with a label to identify the even and odd numbers. "
      ]
    },
    {
      "cell_type": "code",
      "metadata": {
        "id": "KGdbZrBmi0yQ"
      },
      "source": [
        "def showNumbers(limit):\n",
        "  for i in range(0,limit+1):\n",
        "    if i%2==0:\n",
        "      print(i,\": even\")\n",
        "    else:\n",
        "      print(i,\": odd\")\n"
      ],
      "execution_count": 35,
      "outputs": []
    },
    {
      "cell_type": "code",
      "metadata": {
        "id": "FDHpV4jYmpg_",
        "colab": {
          "base_uri": "https://localhost:8080/"
        },
        "outputId": "e3879e7d-8ed6-411c-b60e-cb5dc2f0664a"
      },
      "source": [
        "limit=int(input(\"enter a number upto which you want to show \"))\n",
        "showNumbers(limit)"
      ],
      "execution_count": 36,
      "outputs": [
        {
          "output_type": "stream",
          "text": [
            "enter a number upto which you want to show 13\n",
            "0 : even\n",
            "1 : odd\n",
            "2 : even\n",
            "3 : odd\n",
            "4 : even\n",
            "5 : odd\n",
            "6 : even\n",
            "7 : odd\n",
            "8 : even\n",
            "9 : odd\n",
            "10 : even\n",
            "11 : odd\n",
            "12 : even\n",
            "13 : odd\n"
          ],
          "name": "stdout"
        }
      ]
    },
    {
      "cell_type": "markdown",
      "metadata": {
        "id": "iobNAPvurady"
      },
      "source": [
        "5.Write a function that returns the sum of multiples of 3 and 5 between 0 and limit (parameter). "
      ]
    },
    {
      "cell_type": "code",
      "metadata": {
        "id": "4IJuu9nOrdJN"
      },
      "source": [
        "def multiples(limit):\n",
        "  sum=0\n",
        "  for i in range(0,limit+1):\n",
        "    if i%3==0 or i%5==0:\n",
        "      sum =i+sum\n",
        "  return sum\n"
      ],
      "execution_count": 56,
      "outputs": []
    },
    {
      "cell_type": "code",
      "metadata": {
        "colab": {
          "base_uri": "https://localhost:8080/"
        },
        "id": "3k7bJO99sAH_",
        "outputId": "47e98656-f95e-4faa-8bf7-a1c816bf4230"
      },
      "source": [
        "multiples(20)"
      ],
      "execution_count": 57,
      "outputs": [
        {
          "output_type": "execute_result",
          "data": {
            "text/plain": [
              "98"
            ]
          },
          "metadata": {
            "tags": []
          },
          "execution_count": 57
        }
      ]
    },
    {
      "cell_type": "code",
      "metadata": {
        "colab": {
          "base_uri": "https://localhost:8080/"
        },
        "id": "aeUqPeyYsng7",
        "outputId": "2b473d08-0f2d-48e6-a341-2c414224781a"
      },
      "source": [
        "multiples(100)"
      ],
      "execution_count": 58,
      "outputs": [
        {
          "output_type": "execute_result",
          "data": {
            "text/plain": [
              "2418"
            ]
          },
          "metadata": {
            "tags": []
          },
          "execution_count": 58
        }
      ]
    },
    {
      "cell_type": "markdown",
      "metadata": {
        "id": "AfjWUlxbqt-p"
      },
      "source": [
        "6.Write a function called show_stars(rows).\n"
      ]
    },
    {
      "cell_type": "code",
      "metadata": {
        "id": "2K2M8qN1p-VW"
      },
      "source": [
        "def show_stars(rows):\n",
        "  for i in range(1,rows+1):\n",
        "    print(i*\"*\")"
      ],
      "execution_count": 39,
      "outputs": []
    },
    {
      "cell_type": "code",
      "metadata": {
        "colab": {
          "base_uri": "https://localhost:8080/"
        },
        "id": "Sb2mL30nrGO_",
        "outputId": "20d7fe94-4538-49a0-abcf-23c47b8bb7a5"
      },
      "source": [
        "show_stars(5)"
      ],
      "execution_count": 40,
      "outputs": [
        {
          "output_type": "stream",
          "text": [
            "*\n",
            "**\n",
            "***\n",
            "****\n",
            "*****\n"
          ],
          "name": "stdout"
        }
      ]
    },
    {
      "cell_type": "code",
      "metadata": {
        "colab": {
          "base_uri": "https://localhost:8080/"
        },
        "id": "y38Uax0qrRzg",
        "outputId": "35fe10e6-8878-4ee7-91ff-ce52e8418352"
      },
      "source": [
        "show_stars(10)"
      ],
      "execution_count": 41,
      "outputs": [
        {
          "output_type": "stream",
          "text": [
            "*\n",
            "**\n",
            "***\n",
            "****\n",
            "*****\n",
            "******\n",
            "*******\n",
            "********\n",
            "*********\n",
            "**********\n"
          ],
          "name": "stdout"
        }
      ]
    },
    {
      "cell_type": "markdown",
      "metadata": {
        "id": "Qch9KXzNqp7O"
      },
      "source": [
        "7.Write a function that prints all the prime numbers between 0 and limit where limit is a parameter.\n"
      ]
    },
    {
      "cell_type": "code",
      "metadata": {
        "id": "CUoVJhJvqrc6"
      },
      "source": [
        "def check_prime(limit):\n",
        "  primes = []\n",
        "  for i in range (2, limit+1):\n",
        "    for j in range(2, i):\n",
        "        if i%j == 0:\n",
        "            break\n",
        "    else:\n",
        "        primes.append(i)\n",
        "  print(primes)"
      ],
      "execution_count": 59,
      "outputs": []
    },
    {
      "cell_type": "code",
      "metadata": {
        "colab": {
          "base_uri": "https://localhost:8080/"
        },
        "id": "EUum5Cg9t7SA",
        "outputId": "f7b760d7-6c44-47e3-d3ae-fd49aca536d3"
      },
      "source": [
        "limit=int(input(\"Enter the number till you want to check: \"))\n",
        "check_prime(limit)\n"
      ],
      "execution_count": 60,
      "outputs": [
        {
          "output_type": "stream",
          "text": [
            "Enter the number till you want to check: 10\n",
            "[2, 3, 5, 7]\n"
          ],
          "name": "stdout"
        }
      ]
    },
    {
      "cell_type": "code",
      "metadata": {
        "id": "wvEiV1DtuK-T"
      },
      "source": [
        ""
      ],
      "execution_count": 60,
      "outputs": []
    }
  ]
}