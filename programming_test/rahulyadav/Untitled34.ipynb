{
 "cells": [
  {
   "cell_type": "markdown",
   "metadata": {
    "id": "SkeO8eg60CrC"
   },
   "source": [
    "1.Write a function that returns the maximum of two numbers?\n",
    "\n"
   ]
  },
  {
   "cell_type": "code",
   "execution_count": 1,
   "metadata": {
    "id": "7mXfebGK0HTd"
   },
   "outputs": [],
   "source": [
    "def maximum(a,b):\n",
    "  if a >=b:\n",
    "    return a\n",
    "  else:\n",
    "    return b"
   ]
  },
  {
   "cell_type": "code",
   "execution_count": 2,
   "metadata": {
    "colab": {
     "base_uri": "https://localhost:8080/"
    },
    "id": "WM87FcIenubf",
    "outputId": "08189ccb-ceec-4aab-b1ec-e41ddb73cbaa"
   },
   "outputs": [
    {
     "data": {
      "text/plain": [
       "7"
      ]
     },
     "execution_count": 2,
     "metadata": {},
     "output_type": "execute_result"
    }
   ],
   "source": [
    "maximum(6,7)"
   ]
  },
  {
   "cell_type": "code",
   "execution_count": 3,
   "metadata": {},
   "outputs": [
    {
     "data": {
      "text/plain": [
       "-2"
      ]
     },
     "execution_count": 3,
     "metadata": {},
     "output_type": "execute_result"
    }
   ],
   "source": [
    "maximum(-2,-10)"
   ]
  },
  {
   "cell_type": "markdown",
   "metadata": {
    "id": "N16_-2j-b77D"
   },
   "source": [
    "2.Write a function called fizz_buzz that takes a number.\n",
    "If the number is divisible by 3, it should return “Fizz”.\n",
    "If it is divisible by 5, it should return “Buzz”.\n",
    "If it is divisible by both 3 and 5, it should return “FizzBuzz”.\n",
    "Otherwise, it should return the same number.\n"
   ]
  },
  {
   "cell_type": "code",
   "execution_count": 4,
   "metadata": {
    "id": "akSA-8w1b-vN"
   },
   "outputs": [],
   "source": [
    "def fizz_buzz(number):\n",
    "  if number%3==0 and number%5==0:\n",
    "    return print(\"FizzBuzz\")\n",
    "  elif number%3==0:\n",
    "    return print(\"Fizz\")\n",
    "  elif number%5==0:\n",
    "    return print(\"Buzz\")\n",
    "  else:\n",
    "    return number\n",
    "\n",
    "  "
   ]
  },
  {
   "cell_type": "code",
   "execution_count": 5,
   "metadata": {
    "colab": {
     "base_uri": "https://localhost:8080/"
    },
    "id": "qd7NLT_RfKtU",
    "outputId": "22a3a1c1-afcf-4876-d7a9-5f0d6b0ee309"
   },
   "outputs": [
    {
     "name": "stdout",
     "output_type": "stream",
     "text": [
      "FizzBuzz\n"
     ]
    }
   ],
   "source": [
    "fizz_buzz(15)"
   ]
  },
  {
   "cell_type": "code",
   "execution_count": 6,
   "metadata": {
    "colab": {
     "base_uri": "https://localhost:8080/"
    },
    "id": "QI2StKzufTcd",
    "outputId": "cb890856-167e-4b8d-fb2e-5551c322ba85"
   },
   "outputs": [
    {
     "name": "stdout",
     "output_type": "stream",
     "text": [
      "Fizz\n"
     ]
    }
   ],
   "source": [
    "fizz_buzz(9)"
   ]
  },
  {
   "cell_type": "code",
   "execution_count": 7,
   "metadata": {
    "colab": {
     "base_uri": "https://localhost:8080/"
    },
    "id": "FXAAQ7y5hDJ4",
    "outputId": "e2d9b0a4-95e2-4592-bbd5-1df9767062de"
   },
   "outputs": [
    {
     "name": "stdout",
     "output_type": "stream",
     "text": [
      "Buzz\n"
     ]
    }
   ],
   "source": [
    "fizz_buzz(10)"
   ]
  },
  {
   "cell_type": "markdown",
   "metadata": {
    "id": "MyKuhdkPhMoE"
   },
   "source": [
    "3.Write a function for checking the speed of drivers. This function should have one parameter: speed.\n",
    "If speed is less than 70, it should print “Ok”.\n",
    "Otherwise, for every 5km above the speed limit (70), it should give the driver one demerit point and print the total number of demerit points. For example, if the speed is 80, it should print: “Points: 2”.\n",
    "If the driver gets more than 12 points, the function should print: “License suspended”\n"
   ]
  },
  {
   "cell_type": "code",
   "execution_count": 25,
   "metadata": {
    "id": "okt5UKBrhGhA"
   },
   "outputs": [],
   "source": [
    "def speed_check(speed):\n",
    "  if speed<=70:\n",
    "    return \"OK\"\n",
    "  else:\n",
    "    demerit_points=(speed-70)/5\n",
    "    if demerit_points<12:\n",
    "      return print(\"Points:\",demerit_points)\n",
    "    else:\n",
    "      return print(\"License suspended\")\n"
   ]
  },
  {
   "cell_type": "code",
   "execution_count": 26,
   "metadata": {
    "colab": {
     "base_uri": "https://localhost:8080/",
     "height": 35
    },
    "id": "A7PsIPleice4",
    "outputId": "f2971620-dcb5-49ab-8e5a-7b5cc4031e23"
   },
   "outputs": [
    {
     "data": {
      "text/plain": [
       "'OK'"
      ]
     },
     "execution_count": 26,
     "metadata": {},
     "output_type": "execute_result"
    }
   ],
   "source": [
    "speed_check(65)"
   ]
  },
  {
   "cell_type": "code",
   "execution_count": 27,
   "metadata": {
    "colab": {
     "base_uri": "https://localhost:8080/"
    },
    "id": "i9OAi7hkiqg3",
    "outputId": "fd6702f7-a639-426f-91a3-c9f78d36b399"
   },
   "outputs": [
    {
     "name": "stdout",
     "output_type": "stream",
     "text": [
      "Points: 4.0\n"
     ]
    }
   ],
   "source": [
    "speed_check(90)"
   ]
  },
  {
   "cell_type": "code",
   "execution_count": 28,
   "metadata": {},
   "outputs": [
    {
     "name": "stdout",
     "output_type": "stream",
     "text": [
      "Points: 4.4\n"
     ]
    }
   ],
   "source": [
    "speed_check(92)"
   ]
  },
  {
   "cell_type": "code",
   "execution_count": null,
   "metadata": {
    "colab": {
     "base_uri": "https://localhost:8080/"
    },
    "id": "o_A4lCqviur0",
    "outputId": "8e8fdaa0-7ac9-4b4b-cf36-09d6fabcf761"
   },
   "outputs": [
    {
     "name": "stdout",
     "output_type": "stream",
     "text": [
      "License suspended\n"
     ]
    }
   ],
   "source": [
    "speed_check(300)"
   ]
  },
  {
   "cell_type": "markdown",
   "metadata": {
    "id": "bW64CpWkjHog"
   },
   "source": [
    "4.Write a function called showNumbers that takes a parameter called limit. It should print all the numbers between 0 and limit with a label to identify the even and odd numbers. "
   ]
  },
  {
   "cell_type": "code",
   "execution_count": 12,
   "metadata": {
    "id": "KGdbZrBmi0yQ"
   },
   "outputs": [],
   "source": [
    "def showNumbers(limit):\n",
    "  for i in range(0,limit+1):\n",
    "    if i%2==0:\n",
    "      print(i,\": even\")\n",
    "    else:\n",
    "      print(i,\": odd\")\n"
   ]
  },
  {
   "cell_type": "code",
   "execution_count": 13,
   "metadata": {
    "colab": {
     "base_uri": "https://localhost:8080/"
    },
    "id": "FDHpV4jYmpg_",
    "outputId": "e3879e7d-8ed6-411c-b60e-cb5dc2f0664a"
   },
   "outputs": [
    {
     "name": "stdin",
     "output_type": "stream",
     "text": [
      "enter a number upto which you want to show  20\n"
     ]
    },
    {
     "name": "stdout",
     "output_type": "stream",
     "text": [
      "0 : even\n",
      "1 : odd\n",
      "2 : even\n",
      "3 : odd\n",
      "4 : even\n",
      "5 : odd\n",
      "6 : even\n",
      "7 : odd\n",
      "8 : even\n",
      "9 : odd\n",
      "10 : even\n",
      "11 : odd\n",
      "12 : even\n",
      "13 : odd\n",
      "14 : even\n",
      "15 : odd\n",
      "16 : even\n",
      "17 : odd\n",
      "18 : even\n",
      "19 : odd\n",
      "20 : even\n"
     ]
    }
   ],
   "source": [
    "limit=int(input(\"enter a number upto which you want to show \"))\n",
    "showNumbers(limit)"
   ]
  },
  {
   "cell_type": "markdown",
   "metadata": {
    "id": "iobNAPvurady"
   },
   "source": [
    "5.Write a function that returns the sum of multiples of 3 and 5 between 0 and limit (parameter). "
   ]
  },
  {
   "cell_type": "code",
   "execution_count": 16,
   "metadata": {
    "id": "4IJuu9nOrdJN"
   },
   "outputs": [],
   "source": [
    "def multiples(limit):\n",
    "  sum=0\n",
    "  for i in range(0,limit+1):\n",
    "    if i%3==0 or i%5==0:\n",
    "      print(i)\n",
    "      sum =i+sum\n",
    "  return sum\n"
   ]
  },
  {
   "cell_type": "code",
   "execution_count": 17,
   "metadata": {
    "colab": {
     "base_uri": "https://localhost:8080/"
    },
    "id": "3k7bJO99sAH_",
    "outputId": "47e98656-f95e-4faa-8bf7-a1c816bf4230"
   },
   "outputs": [
    {
     "name": "stdout",
     "output_type": "stream",
     "text": [
      "0\n",
      "3\n",
      "5\n",
      "6\n",
      "9\n",
      "10\n",
      "12\n",
      "15\n",
      "18\n",
      "20\n"
     ]
    },
    {
     "data": {
      "text/plain": [
       "98"
      ]
     },
     "execution_count": 17,
     "metadata": {},
     "output_type": "execute_result"
    }
   ],
   "source": [
    "multiples(20)"
   ]
  },
  {
   "cell_type": "code",
   "execution_count": 18,
   "metadata": {
    "colab": {
     "base_uri": "https://localhost:8080/"
    },
    "id": "aeUqPeyYsng7",
    "outputId": "2b473d08-0f2d-48e6-a341-2c414224781a"
   },
   "outputs": [
    {
     "name": "stdout",
     "output_type": "stream",
     "text": [
      "0\n",
      "3\n",
      "5\n",
      "6\n",
      "9\n",
      "10\n",
      "12\n",
      "15\n",
      "18\n",
      "20\n",
      "21\n",
      "24\n",
      "25\n",
      "27\n",
      "30\n",
      "33\n",
      "35\n",
      "36\n",
      "39\n",
      "40\n",
      "42\n",
      "45\n",
      "48\n",
      "50\n",
      "51\n",
      "54\n",
      "55\n",
      "57\n",
      "60\n",
      "63\n",
      "65\n",
      "66\n",
      "69\n",
      "70\n",
      "72\n",
      "75\n",
      "78\n",
      "80\n",
      "81\n",
      "84\n",
      "85\n",
      "87\n",
      "90\n",
      "93\n",
      "95\n",
      "96\n",
      "99\n",
      "100\n"
     ]
    },
    {
     "data": {
      "text/plain": [
       "2418"
      ]
     },
     "execution_count": 18,
     "metadata": {},
     "output_type": "execute_result"
    }
   ],
   "source": [
    "multiples(100)"
   ]
  },
  {
   "cell_type": "markdown",
   "metadata": {
    "id": "AfjWUlxbqt-p"
   },
   "source": [
    "6.Write a function called show_stars(rows).\n"
   ]
  },
  {
   "cell_type": "code",
   "execution_count": 19,
   "metadata": {
    "id": "2K2M8qN1p-VW"
   },
   "outputs": [],
   "source": [
    "def show_stars(rows):\n",
    "  for i in range(1,rows+1):\n",
    "    print(i*\"*\")"
   ]
  },
  {
   "cell_type": "code",
   "execution_count": 20,
   "metadata": {
    "colab": {
     "base_uri": "https://localhost:8080/"
    },
    "id": "Sb2mL30nrGO_",
    "outputId": "20d7fe94-4538-49a0-abcf-23c47b8bb7a5"
   },
   "outputs": [
    {
     "name": "stdout",
     "output_type": "stream",
     "text": [
      "*\n",
      "**\n",
      "***\n",
      "****\n",
      "*****\n"
     ]
    }
   ],
   "source": [
    "show_stars(5)"
   ]
  },
  {
   "cell_type": "code",
   "execution_count": 21,
   "metadata": {
    "colab": {
     "base_uri": "https://localhost:8080/"
    },
    "id": "y38Uax0qrRzg",
    "outputId": "35fe10e6-8878-4ee7-91ff-ce52e8418352"
   },
   "outputs": [
    {
     "name": "stdout",
     "output_type": "stream",
     "text": [
      "*\n",
      "**\n",
      "***\n",
      "****\n",
      "*****\n",
      "******\n",
      "*******\n",
      "********\n",
      "*********\n",
      "**********\n"
     ]
    }
   ],
   "source": [
    "show_stars(10)"
   ]
  },
  {
   "cell_type": "markdown",
   "metadata": {
    "id": "Qch9KXzNqp7O"
   },
   "source": [
    "7.Write a function that prints all the prime numbers between 0 and limit where limit is a parameter.\n"
   ]
  },
  {
   "cell_type": "code",
   "execution_count": 22,
   "metadata": {
    "id": "CUoVJhJvqrc6"
   },
   "outputs": [],
   "source": [
    "def check_prime(limit):\n",
    "  primes = []\n",
    "  for i in range (2, limit+1):\n",
    "    for j in range(2, i):\n",
    "        if i%j == 0:\n",
    "            break\n",
    "    else:\n",
    "        primes.append(i)\n",
    "  print(primes)"
   ]
  },
  {
   "cell_type": "code",
   "execution_count": 24,
   "metadata": {
    "colab": {
     "base_uri": "https://localhost:8080/"
    },
    "id": "EUum5Cg9t7SA",
    "outputId": "f7b760d7-6c44-47e3-d3ae-fd49aca536d3"
   },
   "outputs": [
    {
     "name": "stdin",
     "output_type": "stream",
     "text": [
      "Enter the number till you want to check:  100\n"
     ]
    },
    {
     "name": "stdout",
     "output_type": "stream",
     "text": [
      "[2, 3, 5, 7, 11, 13, 17, 19, 23, 29, 31, 37, 41, 43, 47, 53, 59, 61, 67, 71, 73, 79, 83, 89, 97]\n"
     ]
    }
   ],
   "source": [
    "limit=int(input(\"Enter the number till you want to check: \"))\n",
    "check_prime(limit)\n"
   ]
  },
  {
   "cell_type": "markdown",
   "metadata": {
    "id": "wvEiV1DtuK-T"
   },
   "source": [
    "# CHECK a prime number"
   ]
  },
  {
   "cell_type": "code",
   "execution_count": 29,
   "metadata": {},
   "outputs": [
    {
     "data": {
      "text/plain": [
       "997"
      ]
     },
     "execution_count": 29,
     "metadata": {},
     "output_type": "execute_result"
    }
   ],
   "source": [
    "997"
   ]
  },
  {
   "cell_type": "code",
   "execution_count": 30,
   "metadata": {},
   "outputs": [
    {
     "data": {
      "text/plain": [
       "100"
      ]
     },
     "execution_count": 30,
     "metadata": {},
     "output_type": "execute_result"
    }
   ],
   "source": [
    "100"
   ]
  },
  {
   "cell_type": "code",
   "execution_count": 32,
   "metadata": {},
   "outputs": [
    {
     "ename": "SyntaxError",
     "evalue": "cannot assign to function call (<ipython-input-32-be30b831ff28>, line 1)",
     "output_type": "error",
     "traceback": [
      "\u001b[0;36m  File \u001b[0;32m\"<ipython-input-32-be30b831ff28>\"\u001b[0;36m, line \u001b[0;32m1\u001b[0m\n\u001b[0;31m    sqrt(100) = 10\u001b[0m\n\u001b[0m    ^\u001b[0m\n\u001b[0;31mSyntaxError\u001b[0m\u001b[0;31m:\u001b[0m cannot assign to function call\n"
     ]
    }
   ],
   "source": [
    "sqrt(100) = 10"
   ]
  },
  {
   "cell_type": "code",
   "execution_count": 31,
   "metadata": {},
   "outputs": [
    {
     "data": {
      "text/plain": [
       "(1, 2, 4, 5, 10, 20, 25, 50, 100)"
      ]
     },
     "execution_count": 31,
     "metadata": {},
     "output_type": "execute_result"
    }
   ],
   "source": [
    "1,2,4,5,10,10,20,25,50,100"
   ]
  },
  {
   "cell_type": "code",
   "execution_count": 33,
   "metadata": {},
   "outputs": [
    {
     "data": {
      "text/plain": [
       "200"
      ]
     },
     "execution_count": 33,
     "metadata": {},
     "output_type": "execute_result"
    }
   ],
   "source": [
    "200"
   ]
  },
  {
   "cell_type": "code",
   "execution_count": null,
   "metadata": {},
   "outputs": [],
   "source": [
    "1,2,"
   ]
  }
 ],
 "metadata": {
  "colab": {
   "collapsed_sections": [],
   "name": "Untitled34.ipynb",
   "provenance": []
  },
  "kernelspec": {
   "display_name": "Python 3",
   "language": "python",
   "name": "python3"
  },
  "language_info": {
   "codemirror_mode": {
    "name": "ipython",
    "version": 3
   },
   "file_extension": ".py",
   "mimetype": "text/x-python",
   "name": "python",
   "nbconvert_exporter": "python",
   "pygments_lexer": "ipython3",
   "version": "3.8.5"
  }
 },
 "nbformat": 4,
 "nbformat_minor": 4
}
